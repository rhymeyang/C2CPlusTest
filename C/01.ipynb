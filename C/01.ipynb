{
  "nbformat": 4,
  "nbformat_minor": 0,
  "metadata": {
    "colab": {
      "name": "01.ipynb",
      "version": "0.3.2",
      "provenance": [],
      "collapsed_sections": [],
      "toc_visible": true,
      "include_colab_link": true
    },
    "kernelspec": {
      "name": "python3",
      "display_name": "Python 3"
    }
  },
  "cells": [
    {
      "cell_type": "markdown",
      "metadata": {
        "id": "view-in-github",
        "colab_type": "text"
      },
      "source": [
        "<a href=\"https://colab.research.google.com/github/rhymeyang/C2CPlus/blob/master/C/01.ipynb\" target=\"_parent\"><img src=\"https://colab.research.google.com/assets/colab-badge.svg\" alt=\"Open In Colab\"/></a>"
      ]
    },
    {
      "cell_type": "markdown",
      "metadata": {
        "id": "zzObk9LeQNYj",
        "colab_type": "text"
      },
      "source": [
        "## C environment prepare"
      ]
    },
    {
      "cell_type": "markdown",
      "metadata": {
        "id": "RzWzE-0pimot",
        "colab_type": "text"
      },
      "source": [
        "```shell\n",
        "sudo apt-get install gcc -y\n",
        "\n",
        "gcc --version\n",
        "```"
      ]
    },
    {
      "cell_type": "markdown",
      "metadata": {
        "id": "QR3lG3p6ifJu",
        "colab_type": "text"
      },
      "source": [
        "```c\n",
        "#include <stdio.h>\n",
        "int main()\n",
        "{\n",
        "    printf(\"hhhh\");\n",
        "    return 0;\n",
        "}\n",
        "```"
      ]
    },
    {
      "cell_type": "markdown",
      "metadata": {
        "id": "Wx_OCkiuiy9N",
        "colab_type": "text"
      },
      "source": [
        "```shell\n",
        "gcc hello.c\n",
        "\n",
        "./a.out\n",
        "```\n"
      ]
    },
    {
      "cell_type": "markdown",
      "metadata": {
        "id": "ShAfNc0XCGQJ",
        "colab_type": "text"
      },
      "source": [
        "```c\n",
        "#include <stdio.h>\n",
        "\n",
        "int main()\n",
        "{\n",
        "  int radius;\n",
        "   printf(\"Please input an radius:\");\n",
        "  scanf(\"%i\", &radius);\n",
        "  printf(\"The given radius is %i\\n\", radius);\n",
        "  return 0;\n",
        "}\n",
        "```"
      ]
    },
    {
      "cell_type": "code",
      "metadata": {
        "id": "gogUUIOGjAMo",
        "colab_type": "code",
        "colab": {}
      },
      "source": [
        ""
      ],
      "execution_count": 0,
      "outputs": []
    }
  ]
}