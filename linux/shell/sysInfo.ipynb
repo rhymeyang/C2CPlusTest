{
  "nbformat": 4,
  "nbformat_minor": 0,
  "metadata": {
    "colab": {
      "name": "sysInfo.ipynb",
      "version": "0.3.2",
      "provenance": [],
      "collapsed_sections": [
        "95ESSp0xV74J",
        "u-2De5wyWIfJ",
        "U4Xjg9FhWNQB",
        "82QYmlpQWQVi"
      ],
      "toc_visible": true,
      "include_colab_link": true
    },
    "kernelspec": {
      "name": "python3",
      "display_name": "Python 3"
    }
  },
  "cells": [
    {
      "cell_type": "markdown",
      "metadata": {
        "id": "view-in-github",
        "colab_type": "text"
      },
      "source": [
        "<a href=\"https://colab.research.google.com/github/rhymeyang/NoteTest/blob/master/linux/shell/sysInfo.ipynb\" target=\"_parent\"><img src=\"https://colab.research.google.com/assets/colab-badge.svg\" alt=\"Open In Colab\"/></a>"
      ]
    },
    {
      "cell_type": "markdown",
      "metadata": {
        "id": "95ESSp0xV74J",
        "colab_type": "text"
      },
      "source": [
        "\n",
        "\n",
        "## 1. uname: kernal version\n",
        "\n",
        "    - uname -a\n",
        "    - uname -v\n"
      ]
    },
    {
      "cell_type": "markdown",
      "metadata": {
        "id": "u-2De5wyWIfJ",
        "colab_type": "text"
      },
      "source": [
        "## 2. ifconfig\n",
        "    - ip addr\n",
        "    - ip addr show etho\n"
      ]
    },
    {
      "cell_type": "markdown",
      "metadata": {
        "id": "U4Xjg9FhWNQB",
        "colab_type": "text"
      },
      "source": [
        "## 3. df -ah\n"
      ]
    },
    {
      "cell_type": "markdown",
      "metadata": {
        "id": "82QYmlpQWQVi",
        "colab_type": "text"
      },
      "source": [
        "## 4. service name status\n",
        "\n",
        "  systemctl status name\n"
      ]
    },
    {
      "cell_type": "markdown",
      "metadata": {
        "id": "zpjSO8KOWVnY",
        "colab_type": "text"
      },
      "source": [
        "## 5. 查看目录占用空间\n",
        "\n",
        "  du -sh somepath\n"
      ]
    },
    {
      "cell_type": "markdown",
      "metadata": {
        "id": "rn5joRqmWaPw",
        "colab_type": "text"
      },
      "source": [
        "## 6. netstat\n",
        "    - netstat -tu (tcp and udp)\n",
        "    - netstat -tulpn\n",
        "    - sudo netstat -tulpn (get more info)\n"
      ]
    },
    {
      "cell_type": "markdown",
      "metadata": {
        "id": "zL4oj5RKWf3A",
        "colab_type": "text"
      },
      "source": [
        "## 7. `ps aux | grep someinfo`\n"
      ]
    },
    {
      "cell_type": "markdown",
      "metadata": {
        "id": "ZXHosyuMWi9I",
        "colab_type": "text"
      },
      "source": [
        "## 8. top\n"
      ]
    },
    {
      "cell_type": "markdown",
      "metadata": {
        "id": "njBuYNhpWlPb",
        "colab_type": "text"
      },
      "source": [
        "## 9. `ls /mnt`\n",
        "    - `mount /dev/sda2 /mnt`\n",
        "    - mount (检查当前mount)\n"
      ]
    },
    {
      "cell_type": "markdown",
      "metadata": {
        "id": "K-ZfJeLyWm_g",
        "colab_type": "text"
      },
      "source": [
        "## 10. `less /etc/fstab`\n"
      ]
    },
    {
      "cell_type": "markdown",
      "metadata": {
        "id": "e4Ee5TVYWoi2",
        "colab_type": "text"
      },
      "source": [
        "## 11. man commandname"
      ]
    },
    {
      "cell_type": "markdown",
      "metadata": {
        "id": "QuktYo0pWv3c",
        "colab_type": "text"
      },
      "source": [
        "## vim\n",
        "\n",
        "\n",
        "`ctrl + z` 后台\n",
        "\n",
        "fg 从后台恢复"
      ]
    }
  ]
}