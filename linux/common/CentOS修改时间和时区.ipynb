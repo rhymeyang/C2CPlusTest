{
  "nbformat": 4,
  "nbformat_minor": 0,
  "metadata": {
    "colab": {
      "name": "CentOS修改时间和时区.ipynb",
      "version": "0.3.2",
      "provenance": [],
      "include_colab_link": true
    },
    "kernelspec": {
      "name": "python3",
      "display_name": "Python 3"
    }
  },
  "cells": [
    {
      "cell_type": "markdown",
      "metadata": {
        "id": "view-in-github",
        "colab_type": "text"
      },
      "source": [
        "<a href=\"https://colab.research.google.com/github/rhymeyang/NoteTest/blob/master/linux/common/CentOS%E4%BF%AE%E6%94%B9%E6%97%B6%E9%97%B4%E5%92%8C%E6%97%B6%E5%8C%BA.ipynb\" target=\"_parent\"><img src=\"https://colab.research.google.com/assets/colab-badge.svg\" alt=\"Open In Colab\"/></a>"
      ]
    },
    {
      "cell_type": "markdown",
      "metadata": {
        "id": "QGSUkIHLeNQy",
        "colab_type": "text"
      },
      "source": [
        "## 修改时区：\n",
        "\n",
        "### 方法1:\n",
        "\n",
        "  cp  /usr/share/zoneinfo/Asia/Shanghai  /etc/localtime\n",
        "\n",
        "### 方法2：    \n",
        "\n",
        "列出时区：  timedatectl list-timezones\n",
        " \n",
        "设置时区：timedatectl set-timezone Asia/Shanghai\n",
        "  \n",
        "\n",
        "### 方法3：\n",
        "\n",
        "使用  tzselect\n",
        "\n",
        "## 查看是否修改成功：\n",
        "\n",
        "date\n",
        "\n",
        "Fri Dec 14 10:48:05 CST 2018\n",
        "\n",
        "如果显示CST则说明时区设置成功\n",
        "\n",
        " \n",
        "\n",
        "+ CST：中国标准时间（China Standard Time），这个解释可能是针对RedHat Linux。\n",
        "+ UTC：协调世界时，又称世界标准时间，简称UTC，从英文国际时间/法文协调时间”Universal Time/Temps Cordonn&eacute;”而来。中国大陆、香港、澳门、台湾、蒙古国、新加坡、马来西亚、菲律宾、澳洲西部的时间与UTC的时差均为+8，也就是UTC+8。\n",
        "+ GMT：格林尼治标准时间（旧译格林威治平均时间或格林威治标准时间；英语：Greenwich Mean Time，GMT）是指位于英国伦敦郊区的皇家格林尼治天文台的标准时间，因为本初子午线被定义在通过那里的经线。\n",
        "\n",
        "设置完系统时间后,还需要同步到硬件时钟上\n",
        "\n"
      ]
    },
    {
      "cell_type": "markdown",
      "metadata": {
        "id": "wqEJIPbVeadk",
        "colab_type": "text"
      },
      "source": [
        "## 查看和修改时间\n",
        "\n",
        "1. 显示时间 ：  date\n",
        "2. 修改时间  date -s  时间\n",
        "\n",
        "如：设置当前时间为：2018年12月10点50分\n",
        "\n",
        "  date -s  ‘'2018-12-14 10:50:00'\n",
        "\n",
        " \n",
        "\n",
        "3. 根据网络同步时间\n",
        "\n",
        "使用ntp同步标准时间，ntp：网络时间协议（network time protol）\n",
        "\n",
        "安装：\n",
        "\n",
        "    yum install ntp\n",
        "\n",
        "同步：\n",
        "\n",
        "    ntpdate pool.ntp.org\n"
      ]
    }
  ]
}