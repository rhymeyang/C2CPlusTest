{
  "nbformat": 4,
  "nbformat_minor": 0,
  "metadata": {
    "colab": {
      "name": "ChromHeadless",
      "version": "0.3.2",
      "provenance": [],
      "toc_visible": true,
      "include_colab_link": true
    },
    "kernelspec": {
      "name": "python3",
      "display_name": "Python 3"
    }
  },
  "cells": [
    {
      "cell_type": "markdown",
      "metadata": {
        "id": "view-in-github",
        "colab_type": "text"
      },
      "source": [
        "<a href=\"https://colab.research.google.com/github/rhymeyang/C2CPlus/blob/master/tools/chrome/ChromHeadless.ipynb\" target=\"_parent\"><img src=\"https://colab.research.google.com/assets/colab-badge.svg\" alt=\"Open In Colab\"/></a>"
      ]
    },
    {
      "cell_type": "markdown",
      "metadata": {
        "id": "xsw33jh89NOB",
        "colab_type": "text"
      },
      "source": [
        "# Headless Chrome and API\n",
        "\n",
        "+ [Use Google Chrome v59 Headless mode on CentOS 7.](http://akai-tsuki.hatenablog.com/entry/2017/06/18/000000)\n",
        "+ [Headless Chrome and API](https://thief.one/2018/03/06/1/)"
      ]
    },
    {
      "cell_type": "markdown",
      "metadata": {
        "id": "lP2GxLTm9gs0",
        "colab_type": "text"
      },
      "source": [
        "## 相关资源\n",
        "\n",
        "以上演示了使用命令行的方式操作headless chrome，那么怎么在代码中使用它呢？\n",
        "api工具如下：\n",
        "\n",
        "+ 官方：[puppeteer](https://github.com/GoogleChrome/puppeteer)\n",
        "+ 底层：chrome-remote-interface\n",
        "+ 活跃：[chromeless](https://github.com/graphcool/chromeless)\n",
        "+ 非官方：[headless-chrome-crawler](https://github.com/yujiosaka/headless-chrome-crawler)\n",
        "\n",
        "Python相关的API：\n",
        "\n",
        "+ [pychrome](https://github.com/fate0/pychrome)\n",
        "+ [Pyppeteer 推荐](https://github.com/miyakogi/pyppeteer)\n",
        "+ [chromote](https://github.com/iiSeymour/chromote)\n",
        "+ [chrome_remote_interface_python](https://github.com/wasiher/chrome_remote_interface_python)\n"
      ]
    },
    {
      "cell_type": "markdown",
      "metadata": {
        "id": "IfhyYzJH8PeM",
        "colab_type": "text"
      },
      "source": [
        "## setting\n",
        "\n",
        "### chrome.repo\n",
        "\n",
        "/etc/yum.repos.d/chrome.repo\n",
        "\n",
        "```config\n",
        "[google-chrome]\n",
        "name=google-chrome\n",
        "baseurl=http://dl.google.com/linux/chrome/rpm/stable/$basearch\n",
        "enabled=1\n",
        "gpgcheck=1\n",
        "gpgkey=https://dl-ssl.google.com/linux/linux_signing_key.pub\n",
        "```\n",
        "\n",
        "\n",
        "### 源管理\n",
        "\n",
        "\n",
        "```shell\n",
        "yum repolist\n",
        "yum-config-manager\n",
        "\n",
        "yum-config-manager --add-repo http://www.example.com/example.repo\n",
        "\n",
        "yum-config-manager --disable XXX\\*\n",
        "```\n",
        "\n",
        "\n",
        "### 安装\n",
        "\n",
        "\n",
        "```shell\n",
        "yum info google-chrome-stable\n",
        "\n",
        "名称    ：google-chrome-stable\n",
        "架构    ：x86_64\n",
        "版本    ：67.0.3396.87\n",
        "发布    ：1\n",
        "大小    ：50 M\n",
        "源    ：google-chrome/x86_64\n",
        "简介    ： Google Chrome\n",
        "网址    ：https://chrome.google.com/\n",
        "协议    ： Multiple, see https://chrome.google.com/\n",
        "描述    ： The web browser from Google\n",
        "         : \n",
        "         : Google Chrome is a browser that combines a minimal design with sophisticated technology to make\n",
        "         : the web faster, safer, and easier.\n",
        "\n",
        "\n",
        "yum install -y google-chrome-stable\n",
        "```"
      ]
    },
    {
      "cell_type": "markdown",
      "metadata": {
        "id": "Cd0kYFzV89Xp",
        "colab_type": "text"
      },
      "source": [
        "## Install mesa-libOSMesa and fonts\n",
        "\n",
        "```shell\n",
        "yum install -y mesa-libOSMesa mesa-libOSMesa-devel gnu-free-sans-fonts\n",
        "yum install -y ipa-gothic-fonts ipa-pgothic-fonts\n",
        "\n",
        "find / -name \"libOSMesa*\" -type f\n",
        "/usr/lib64/libOSMesa.so.8.0.0\n",
        "\n",
        "ln -s /usr/lib64/libOSMesa.so.8.0.0 /opt/google/chrome/libosmesa.so\n",
        "\n",
        "```"
      ]
    },
    {
      "cell_type": "markdown",
      "metadata": {
        "id": "wzUJv85E94eh",
        "colab_type": "text"
      },
      "source": [
        "## use headless mode\n",
        "\n",
        "google-chrome --headless --print-to-pdf https://www.taobao.com\n",
        "\n",
        ">```\n",
        "google-chrome --headless --print-to-pdf https://www.taobao.com\n",
        "[0613/113852.518653:ERROR:zygote_host_impl_linux.cc(88)] Running as root without --no-sandbox is not supported. See https://crbug.com/638180.\n",
        "```\n",
        "\n",
        "### 解决\n",
        "\n",
        "\n",
        "+  /opt/google/chrome/google-chrome\n",
        "+ 找到 `exec -a \"$0\" \"$HERE/chrome\" \"$@\"`\n",
        "+ 改为 `exec -a \"$0\" \"$HERE/chrome\" \"$@\" --user-data-dir --no-sandbox`\n",
        "\n",
        "截屏\n",
        "\n",
        "    google-chrome --headless --screenshot --window-size=1024,2000 --hide-scrollbars http://akai-tsuki.hatenablog.com/\n",
        "    # ls -1 screenshot.png\n",
        "    screenshot.png"
      ]
    },
    {
      "cell_type": "markdown",
      "metadata": {
        "id": "Ow-vmMr29-Ki",
        "colab_type": "text"
      },
      "source": [
        "## Headless Chrome 基础用法\n",
        "\n"
      ]
    },
    {
      "cell_type": "markdown",
      "metadata": {
        "id": "I9ul3o_D-KyJ",
        "colab_type": "text"
      },
      "source": [
        "### 访问一个网页获取源码\n",
        "\n",
        "`–dump-dom` 标志将打印 document.body.innerHTML 到标准输出：\n",
        "\n",
        "    google-chrome --headless --disable-gpu --dump-dom https://thief.one/"
      ]
    },
    {
      "cell_type": "markdown",
      "metadata": {
        "id": "Tsil7A72-O-x",
        "colab_type": "text"
      },
      "source": [
        "### 访问一个网页将源码创建成一个PDF\n",
        "\n",
        "`–print-to-pdf` 标志将页面转出为 PDF 文件：\n",
        "\n",
        "    google-chrome --headless --disable-gpu --print-to-pdf https://thief.one/"
      ]
    },
    {
      "cell_type": "markdown",
      "metadata": {
        "id": "T9JWFHf6-RNx",
        "colab_type": "text"
      },
      "source": [
        "### 访问一个网页并截图\n",
        "\n",
        "使用`–screenshot`标志运行 Headless Chrome 将在当前工作目录中生成一个名为 `screenshot.png`的文件：\n",
        "\n",
        "    chrome --headless --disable-gpu --screenshot https://thief.one/\n",
        "    # 设置图片大小\n",
        "    google-chrome --headless --disable-gpu --screenshot --window-size=1280,1696 https://thief.one/"
      ]
    },
    {
      "cell_type": "markdown",
      "metadata": {
        "id": "pggElz42-UUi",
        "colab_type": "text"
      },
      "source": [
        "### 访问一个网页并进行js交互（REPL模式）\n",
        "\n",
        "`–repl` 标志可以使 Headless Chrome 运行在一个你可以使用浏览器评估 JS 表达式的模式下。执行下面的命令：\n",
        "\n",
        "    google-chrome --headless --disable-gpu --repl https://thief.one\n",
        "    \n",
        "    >>> location.href\n",
        "    {\"result\":{\"type\":\"string\",\"value\":\"https://thief.one\"}}\n",
        "    >>> quit\n",
        "    \n",
        ">实际使用不了，进入交互界面，一直有键盘输入，不知是否是系统问题？"
      ]
    },
    {
      "cell_type": "markdown",
      "metadata": {
        "id": "e_RWhaoa-Ybo",
        "colab_type": "text"
      },
      "source": [
        "### 启动一个监听端口\n",
        "\n",
        "    google-chrome --remote-debugging-port=9222\n",
        "    \n",
        "    google-chrome --headless --disable-gpu --remote-debugging-port=9222\n",
        "\n",
        "可以通过浏览器打开：http://127.0.0.1:9222\n",
        "\n",
        ">+ google-chrome --remote-debugging-port=9222\n",
        "```\n",
        "(google-chrome:13677): Gtk-WARNING **: cannot open display: \n",
        "[root@mainCentOS test]# [0613/121028.659089:ERROR:nacl_helper_linux.cc(310)] NaCl helper process running without a sandbox!\n",
        "Most likely you need to configure your SUID sandbox correctly\n",
        "```"
      ]
    },
    {
      "cell_type": "markdown",
      "metadata": {
        "id": "nN2cTg4a-cR5",
        "colab_type": "text"
      },
      "source": [
        "## 工具介绍\n"
      ]
    },
    {
      "cell_type": "markdown",
      "metadata": {
        "id": "7DEoDYOD-ivS",
        "colab_type": "text"
      },
      "source": [
        "### puppeteer 介绍\n",
        "\n",
        "Puppeteer 是一个由 Chrome 团队开发的 Node 库。它提供了一个高层次的 API 来控制无需显示版（或 完全版）的 Chrome。它与其他自动化测试库，如 Phantom 和 NightmareJS 相类似，但是只适用于最新版本的 Chrome。\n",
        "\n",
        "puppeteer 安装\n",
        "\n",
        "```shell\n",
        "\n",
        "# 创建一个项目目录\n",
        "mkdir puppeteer_test && cd puppeteer_test\n",
        "npm init -y\n",
        "npm i --save puppeteer\n",
        "\n",
        "```\n",
        "\n",
        ">+ 安装puppeteer前需要在系统上安装nodejs与npm；安装完puppeteer，默认会自动安装最新版本的chromium。\n",
        "+ 系统默认安装的npm与nodejs版本都很低，而使用puppeteer需要node6.4.0+，async/await需要node7.6.0+，因此建议安装node7.6.0版本，否则会导致无法使用。\n",
        "\n",
        "#### puppeteer 使用\n",
        "\n",
        "在使用puppeteer前，先要确定puppeteer、nodejs、npm安装成功（版本正确），且headless chrome安装成功。\n",
        "\n",
        "[官方API文档](https://github.com/GoogleChrome/puppeteer/blob/master/docs/api.md)"
      ]
    },
    {
      "cell_type": "markdown",
      "metadata": {
        "id": "1KTkHe_K-ogp",
        "colab_type": "text"
      },
      "source": [
        "#### 获取页面的屏幕截图：\n",
        "\n",
        "创建一个example.js文件，写入：\n",
        "\n",
        "```js\n",
        "const puppeteer = require('puppeteer');\n",
        "(async() => {\n",
        "const browser = await puppeteer.launch({\n",
        "    headless: true,\n",
        "    args: ['--no-sandbox', '--disable-setuid-sandbox'],\n",
        "});\n",
        "const page = await browser.newPage();\n",
        "await page.goto('https://thief.one', {waitUntil: 'networkidle2'});\n",
        "await page.pdf({path: 'screen.pdf', format: 'A4'});\n",
        "browser.close();\n",
        "})();\n",
        "```\n",
        "\n",
        "\t\n",
        "    node example.js\n",
        "\n",
        ">在运行puppeteer之前不需要额外开启一个headless-chrome进程，因为其本身就会去开启。"
      ]
    },
    {
      "cell_type": "markdown",
      "metadata": {
        "id": "2pgs8ibr-r3K",
        "colab_type": "text"
      },
      "source": [
        "### pyppeteer\n",
        "pyppeteer模版是对puppeteer的python封装，因为puppeteer是用nodejs写的，所以要在python中使用得用pyppeteer模块。\n",
        "\n",
        "pyppeteer安装\n",
        "pyppeteer模版只支持python3.5以上版本。\n",
        "\n",
        "1\n",
        "python3 -m pip install pyppeteer\n",
        "pyppeteer简单的例子\n",
        "截图：\n",
        "\n",
        "```python\n",
        "import asyncio\n",
        "from pyppeteer import launch\n",
        "async def main():\n",
        "    browser = await launch(args=['--no-sandbox'])\n",
        "    page = await browser.newPage()\n",
        "    await page.goto('http://example.com')\n",
        "    await page.screenshot({'path': 'example.png'})\n",
        "    await browser.close()\n",
        "asyncio.get_event_loop().run_until_complete(main())\n",
        "```\n",
        "\n",
        ">说明：在使用pyppeteer时，不需要额外开启headless-chrome进程（与puppeteer一样）。\n",
        ">\n",
        ">更多pyppeteer模版使用方法，参考：https://miyakogi.github.io/pyppeteer/reference.html#page-class"
      ]
    },
    {
      "cell_type": "markdown",
      "metadata": {
        "id": "Cc5FSiUY-vHf",
        "colab_type": "text"
      },
      "source": [
        "### chrome-remote-interface工具\n",
        "\n",
        "可以用来分析渲染一个页面过程中所有的请求过程，包括获取所有的请求接口以及响应内容等。再运行chrome-remote-interface代码前，需要先启动headless chrome进程，即：\n",
        "\n",
        "    chrome --headless --remote-debugging-port=9222\n",
        "\n",
        "安装chrome-remote-interface：\n",
        "\n",
        "\n",
        "    npm install chrome-remote-interface\n",
        "\n",
        "然后编写代码：(以获取所有请求url为例)\n",
        "\n",
        "```js\n",
        "const CDP = require('chrome-remote-interface');\n",
        "// node nmask.js https://nmask.cn\n",
        "var options = process.argv;\n",
        "var target_url = options[2];\n",
        "CDP((client) => {\n",
        "    // extract domains\n",
        "    const {Network, Page} = client;\n",
        "    \n",
        "    // setup handlers\n",
        "    Network.requestWillBeSent((params) => {\n",
        "        console.log(params.request.url);\n",
        "    });\n",
        "    Page.loadEventFired(() => {\n",
        "        client.close();\n",
        "    });\n",
        "    \n",
        "    // enable events then start!\n",
        "    Promise.all([\n",
        "        Network.enable(),\n",
        "        Page.enable()\n",
        "    ]).then(() => {\n",
        "        return Page.navigate({url: target_url});//输出请求的url\n",
        "    }).catch((err) => {\n",
        "        console.error(err);\n",
        "        client.close();\n",
        "    });\n",
        "}).on('error', (err) => {\n",
        "    console.error(err);\n",
        "});\n",
        "```\n",
        "\n",
        "运行这段代码：\n",
        "\n",
        "    node nmask.js https://thief.one\n"
      ]
    }
  ]
}